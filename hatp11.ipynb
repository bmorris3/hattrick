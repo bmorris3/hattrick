{
 "cells": [
  {
   "cell_type": "code",
   "execution_count": 33,
   "metadata": {},
   "outputs": [],
   "source": [
    "%matplotlib inline\n",
    "import numpy as np\n",
    "from astropy.utils.data import download_file\n",
    "from astropy.io import fits\n",
    "import astropy.units as u\n",
    "from specutils import Spectrum1D\n",
    "import matplotlib.pyplot as plt\n",
    "from json import load\n",
    "from batman import TransitModel, TransitParams\n",
    "from scipy.stats import binned_statistic\n",
    "\n",
    "\n",
    "phoenix_model_temps = np.array([3200, 6400, 14500, 4100, 12500, 5000, 6700,\n",
    "                                 10400, 2700, 11600, 3600, 7000, 7600, 4500,\n",
    "                                 10600, 5400, 5700, 3100, 7400, 10000, 4000,\n",
    "                                 6000, 4900, 8400, 7200, 2600, 6300, 15000,\n",
    "                                 3500, 4400, 6600, 9600, 13500, 5300, 7800,\n",
    "                                 3000, 6900, 9400, 3900, 12000, 4800, 5600,\n",
    "                                 2500, 9200, 8800, 3400, 5900, 4300, 8000,\n",
    "                                 9000, 5200, 6200, 9800, 2900, 13000, 3800,\n",
    "                                 6500, 11400, 14000, 4700, 2400, 6800, 8600,\n",
    "                                 3300, 4200, 5500, 11800, 5100, 11000, 10200,\n",
    "                                 2800, 5800, 3700, 8200, 10800, 4600, 6100,\n",
    "                                 2300, 11200])\n",
    "\n",
    "\n",
    "def get_url(T_eff, log_g):\n",
    "    closest_grid_temperature = phoenix_model_temps[np.argmin(np.abs(phoenix_model_temps - T_eff))]\n",
    "\n",
    "    url = ('ftp://phoenix.astro.physik.uni-goettingen.de/v2.0/HiResFITS/'\n",
    "           'PHOENIX-ACES-AGSS-COND-2011/Z-0.0/lte{T_eff:05d}-{log_g:1.2f}-0.0.PHOENIX-'\n",
    "           'ACES-AGSS-COND-2011-HiRes.fits').format(T_eff=closest_grid_temperature,\n",
    "                                                    log_g=log_g)\n",
    "    return url\n",
    "\n",
    "\n",
    "def get_phoenix_model_spectrum(T_eff, log_g=4.5, cache=True):\n",
    "    \"\"\"\n",
    "    Download a PHOENIX model atmosphere spectrum for a star with given\n",
    "    properties.\n",
    "\n",
    "    Parameters\n",
    "    ----------\n",
    "    T_eff : float\n",
    "        Effective temperature. The nearest grid-temperature will be selected.\n",
    "    log_g : float\n",
    "        This must be a log g included in the grid for the effective temperature\n",
    "        nearest ``T_eff``.\n",
    "    cache : bool\n",
    "        Cache the result to the local astropy cache. Default is `True`.\n",
    "\n",
    "    Returns\n",
    "    -------\n",
    "    spectrum : `~specutils.Spectrum1D`\n",
    "        Model spectrum\n",
    "    \"\"\"\n",
    "    url = get_url(T_eff=T_eff, log_g=log_g)\n",
    "    fluxes_path = download_file(url, cache=cache, timeout=30)\n",
    "    fluxes = fits.getdata(fluxes_path)\n",
    "    funit = u.Unit(fits.getheader(fluxes_path)['BUNIT'])\n",
    "\n",
    "    wavelength_url = ('ftp://phoenix.astro.physik.uni-goettingen.de/v2.0/HiResFITS/'\n",
    "                      'WAVE_PHOENIX-ACES-AGSS-COND-2011.fits')\n",
    "    wavelength_path = download_file(wavelength_url, cache=cache, timeout=30)\n",
    "    wavelengths_vacuum = fits.getdata(wavelength_path)\n",
    "\n",
    "    # Wavelengths are provided at vacuum wavelengths. For ground-based\n",
    "    # observations convert this to wavelengths in air, as described in\n",
    "    # Husser 2013, Eqns. 8-10:\n",
    "    sigma_2 = (10**4 / wavelengths_vacuum)**2\n",
    "    f = (1.0 + 0.05792105/(238.0185 - sigma_2) + 0.00167917 /\n",
    "         (57.362 - sigma_2))\n",
    "    wavelengths_air = wavelengths_vacuum / f\n",
    "\n",
    "    spectrum = Spectrum1D(fluxes * funit, wavelengths_air * u.Angstrom)\n",
    "\n",
    "    return spectrum\n"
   ]
  },
  {
   "cell_type": "code",
   "execution_count": 35,
   "metadata": {},
   "outputs": [],
   "source": [
    "phot = get_phoenix_model_spectrum(4800)\n",
    "spot = get_phoenix_model_spectrum(4500)"
   ]
  },
  {
   "cell_type": "code",
   "execution_count": 55,
   "metadata": {},
   "outputs": [
    {
     "data": {
      "text/plain": [
       "(0.0, 10000000000000.0)"
      ]
     },
     "execution_count": 55,
     "metadata": {},
     "output_type": "execute_result"
    },
    {
     "data": {
      "image/png": "[encoded data removed]",
      "text/plain": [
       "<Figure size 432x288 with 1 Axes>"
      ]
     },
     "metadata": {
      "needs_background": "light"
     },
     "output_type": "display_data"
    }
   ],
   "source": [
    "for m in [spot, phot]:\n",
    "    plt.plot(m.wavelength, m.flux)\n",
    "plt.xlim(([3, 5]*u.um).to(u.Angstrom).value)\n",
    "plt.ylim(np.array([0, 1]) * 1e13)"
   ]
  },
  {
   "cell_type": "code",
   "execution_count": 57,
   "metadata": {},
   "outputs": [],
   "source": [
    "p = TransitParams()\n",
    "\n",
    "with open('hat11_parameters.json', 'r') as params: \n",
    "    paramdict = load(params)\n",
    "    \n",
    "    for param in paramdict:\n",
    "        setattr(p, param, paramdict[param])"
   ]
  },
  {
   "cell_type": "code",
   "execution_count": 64,
   "metadata": {},
   "outputs": [],
   "source": [
    "p.u = [0.132, 0.243]  # From ExoCTK for K band"
   ]
  },
  {
   "cell_type": "code",
   "execution_count": 65,
   "metadata": {},
   "outputs": [],
   "source": [
    "times = np.linspace(p.t0 - p.duration, p.t0 + p.duration, 500)\n",
    "transit_model = TransitModel(p, times).light_curve(p)"
   ]
  },
  {
   "cell_type": "code",
   "execution_count": 66,
   "metadata": {},
   "outputs": [
    {
     "data": {
      "text/plain": [
       "[<matplotlib.lines.Line2D at 0x14f6f1f50>]"
      ]
     },
     "execution_count": 66,
     "metadata": {},
     "output_type": "execute_result"
    },
    {
     "data": {
      "image/png": "[encoded data removed]",
      "text/plain": [
       "<Figure size 432x288 with 1 Axes>"
      ]
     },
     "metadata": {
      "needs_background": "light"
     },
     "output_type": "display_data"
    }
   ],
   "source": [
    "plt.plot(times, transit_model)"
   ]
  },
  {
   "cell_type": "markdown",
   "metadata": {},
   "source": [
    "Fractional flux: \n",
    "$$ \\frac{\\Delta F}{F} = \\frac{\\pi R_\\star^2 F_\\mathrm{total} - \\pi R_p^2 F_\\mathrm{occulted}}{\\pi R_\\star^2 F_\\mathrm{total}}$$\n",
    "where\n",
    "$$ F_\\mathrm{total} = f_S F_\\mathrm{spot} + (1 - f_S) F_\\mathrm{phot}$$"
   ]
  },
  {
   "cell_type": "code",
   "execution_count": 159,
   "metadata": {},
   "outputs": [],
   "source": [
    "f_S = np.array([0.01, 0.03, 0.1])[:, None]\n",
    "f_occulted = phot.flux\n",
    "f_total = (1-f_S) * phot.flux + f_S * spot.flux"
   ]
  },
  {
   "cell_type": "code",
   "execution_count": 184,
   "metadata": {},
   "outputs": [],
   "source": [
    "from astropy.io import fits\n",
    "wl, d, e, md = fits.getdata('ed_eq_m_1_t_840_norm.dat.fits')\n",
    "\n",
    "bins = np.linspace(3, 5, 28)\n",
    "\n",
    "bincenters = 0.5 * (bins[1:] + bins[:-1])\n",
    "\n",
    "depth =  1 - (1 - p.rp**2 * (f_occulted / f_total)) / (1 - p.rp**2)\n",
    "\n",
    "depth_binned = binned_statistic(phot.wavelength.to(u.um).value, \n",
    "                                depth, bins=bins, \n",
    "                                statistic=lambda x: x.mean(axis=0)).statistic\n",
    "\n",
    "binned_errorbars = binned_statistic(wl, d, \n",
    "                                    bins=bins, \n",
    "                                    statistic=lambda x: e[np.in1d(d, x)].mean() / np.count_nonzero(x)**0.5).statistic"
   ]
  },
  {
   "cell_type": "code",
   "execution_count": 215,
   "metadata": {},
   "outputs": [
    {
     "data": {
      "image/png": "[encoded data removed]",
      "text/plain": [
       "<Figure size 432x216 with 1 Axes>"
      ]
     },
     "metadata": {
      "needs_background": "light"
     },
     "output_type": "display_data"
    }
   ],
   "source": [
    "plt.figure(figsize=(6, 3))\n",
    "ax = plt.gca()\n",
    "ax.fill_between(bincenters, *depth_binned[[0, 2]] * 1e6, alpha=0.2)\n",
    "ax.plot(bincenters, depth_binned[1] * 1e6, '.-', color='C0')\n",
    "ax.set(xlabel='Wavelength [$\\mu$m]', \n",
    "       ylabel='Unocculted spot contamination [ppm]')\n",
    "\n",
    "fs = 12\n",
    "ax.annotate(\"$f_S = 1\\%$\", \n",
    "            (bincenters[5], 1e6 * 1.01 * depth_binned[0, 5]), \n",
    "            xycoords='data', fontsize=fs, \n",
    "            color='C0', alpha=0.6)\n",
    "ax.annotate(\"$f_S = 3\\%$\", \n",
    "            (bincenters[5], 1e6 * 1.01 * depth_binned[1, 5]), \n",
    "            xycoords='data', fontsize=fs, \n",
    "            color='C0')\n",
    "ax.annotate(\"$f_S = 10\\%$\", \n",
    "            (bincenters[5], 1e6 * 1.01 * depth_binned[2, 5]), \n",
    "            xycoords='data', fontsize=fs,\n",
    "            color='C0', alpha=0.6)\n",
    "\n",
    "ax.plot(bincenters, 1e6 * binned_errorbars, color='k', ls='--')\n",
    "ax.annotate(\"Typical Error\", (bincenters[-1], 1e6 * binned_errorbars[-1] - 6), \n",
    "            xycoords='data', ha='right', fontsize=fs, rotation=30)\n",
    "for sp in ['right', 'top']:\n",
    "    ax.spines[sp].set_visible(False)\n",
    "plt.savefig('contamination.pdf', bbox_inches='tight')\n",
    "# plt.savefig('contamination.png', bbox_inches='tight')"
   ]
  },
  {
   "cell_type": "code",
   "execution_count": 207,
   "metadata": {},
   "outputs": [
    {
     "data": {
      "text/plain": [
       "41.00000000000031"
      ]
     },
     "execution_count": 207,
     "metadata": {},
     "output_type": "execute_result"
    }
   ],
   "source": [
    "bincenters[0] / (bincenters[1] - bincenters[0])"
   ]
  },
  {
   "cell_type": "code",
   "execution_count": 124,
   "metadata": {},
   "outputs": [],
   "source": [
    "# plt.plot(transit_model[:, None] * (1 + depth_binned));"
   ]
  },
  {
   "cell_type": "code",
   "execution_count": null,
   "metadata": {},
   "outputs": [],
   "source": []
  }
 ],
 "metadata": {
  "kernelspec": {
   "display_name": "Python 3",
   "language": "python",
   "name": "python3"
  },
  "language_info": {
   "codemirror_mode": {
    "name": "ipython",
    "version": 3
   },
   "file_extension": ".py",
   "mimetype": "text/x-python",
   "name": "python",
   "nbconvert_exporter": "python",
   "pygments_lexer": "ipython3",
   "version": "3.7.6"
  }
 },
 "nbformat": 4,
 "nbformat_minor": 4
}
